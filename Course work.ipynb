{
 "cells": [
  {
   "cell_type": "markdown",
   "id": "1ca5714b",
   "metadata": {},
   "source": [
    "# Riga technical university\n",
    "# Course work\n",
    "# Topic: Image blending modes and transition effects realization"
   ]
  },
  {
   "cell_type": "markdown",
   "id": "1e960a46",
   "metadata": {},
   "source": [
    "### Mykyta Medvediev\n",
    "### 1st year, 1st group\n",
    "### 221ADB084"
   ]
  },
  {
   "cell_type": "markdown",
   "id": "f7391791",
   "metadata": {},
   "source": [
    "# Course work Teoretical Part"
   ]
  },
  {
   "cell_type": "markdown",
   "id": "1c70fdb1",
   "metadata": {},
   "source": [
    "### Task description:\n",
    "Develop an application in Python environment for creating animated transition effects between two images.\n",
    "Realize 3 transition effects (Swipe, Curtain, Fade)\n",
    "The user should be able to open two images using the user interface\n",
    "In the app, a real-time animation for the transition of the selected two images must be displayed. No pre-recorded transition is acceptable\n",
    "Do not use built-in methods functions or libraries to create transition effects (the transition effects must be programmed and you must be able to explain how they work)\n",
    "Console programs (without user interface) will not be accepted."
   ]
  },
  {
   "cell_type": "markdown",
   "id": "33ecf6cb",
   "metadata": {},
   "source": [
    "# Teoretical description of the topic"
   ]
  },
  {
   "cell_type": "markdown",
   "id": "173aaf26",
   "metadata": {},
   "source": [
    " Image transitions are animation effects. We use animations everywhere, especially in computers. There are many methods of creating animations. My example will present 3 different animations: Fade, Swipe and Curtain effects based on the exaple of Python programming language. \n",
    " Fade effect is when one image dissolves into the next. Thus, we increase the weight of the second image decreasing the weight of the first one. To realize this transition, each frame of the animations the rows (or columns) of the old image should be replaced by rows (or columns) of the new image.\n",
    " Swipe effect is when new image surge on the old one. To realize this effect we need to work with two-dimensional arrays and nested loop and gradually replace each row/column of the old image by each row/column of the new one accordingly.\n",
    " Curtain effect is when new image appears from the center of the old one replacing pixels from the center. Thus, we replace each column of old image by new one to left and right at the same time. To realize such effect we have to work with two-dimensional arrays and nested loop replacing columns of pixels in two sides."
   ]
  },
  {
   "cell_type": "markdown",
   "id": "3cc1d45e",
   "metadata": {},
   "source": [
    "#### Python libraries/packages:\n",
    "1. OpenCV-Python is a library of Python bindings designed to solve computer vision problems. This is a powerful library for with images. We print, resize and convert images via OpenCV\n",
    "2. Numpy is a Python library used for working with arrays. Each image can be represented as array with values from 0 to 255. So, working with images means working with arrays\n",
    "3. Time library is a Python module used to handle time-related tasks. We use function time.sleep() to stop execution of the code via such library.\n",
    "4. Copy module in Python is used in order to create \"real copies\" or \"clones\" of the object. In Python, Assignment statements do not copy objects, they create bindings between a target and an object. When we use the = operator, It only creates a new variable that shares the reference of the original object.\n",
    "5. Matplotlib is a comprehensive library for creating static, animated, and interactive visualizations in Python.\n",
    "6. PySimpleGUI - is a library for creating a graphical user inteface"
   ]
  },
  {
   "cell_type": "markdown",
   "id": "a7e5912e",
   "metadata": {},
   "source": [
    "### Information sources:\n",
    "https://www.geeksforgeeks.org/python-programming-language/?ref=shm\n",
    "https://docs.opencv.org/3.4/index.html\n",
    "https://stackoverflow.com/questions/tagged/python\n",
    "https://pyprog.pro/data_types.html\n",
    "https://youtu.be/636d_GqkmM8\n",
    "https://pythondigest.ru/view/51884/\n",
    "https://www.programcreek.com/python/"
   ]
  },
  {
   "cell_type": "markdown",
   "id": "2afb77b5",
   "metadata": {},
   "source": [
    "### List of Functions:\n",
    "1. cv2.imread() -  loads an image from the specified file.\n",
    "2. cv2.cvtColor() - converts an image from one color space to another.\n",
    "3. cv2.resize() - change the size of the image\n",
    "4. numpy.shape - return the size of an array.  \n",
    "6. np.linspace() - returns number spaces evenly w.r.t interval. It has two required parameters, start and stop, and interval parametr (step)\n",
    "7. np.uint8() - converts data type to an unsigned integer of 8 bits (0-255 value)\n",
    "8. np.concatenate - creates a sequence of arrays along an existing axis.\n",
    "9. cv2.imshow() - displays an image in a window.\n",
    "10. time.sleep() - suspends execution of the current thread for a given number of seconds.\n",
    "11. cv2.waitKey()- displays a window for given milliseconds or until any key is pressed.\n",
    "12. copy() - returns a new list without modifying the original lists.\n",
    "13. cv2.destroyAllWindows() - destroys all the windows we created"
   ]
  },
  {
   "cell_type": "markdown",
   "id": "4def7481",
   "metadata": {},
   "source": [
    "# Practical Part"
   ]
  },
  {
   "cell_type": "code",
   "execution_count": 1,
   "id": "eb2869d7",
   "metadata": {},
   "outputs": [],
   "source": [
    "import cv2                              # for working with images\n",
    "import numpy as np                      # for working with arrays and making math with it\n",
    "import time                             # for providing time-related functions\n",
    "import copy                             # for making a copy of variables\n",
    "from matplotlib import pyplot as plt    # for creating static, animated, and interactive visualizations\n",
    "import PySimpleGUI as sg                # for making graphical user interface\n",
    "\n",
    "#create Text and Input fields + button with browsing files from computer drive + button Start and Close\n",
    "layout = [\n",
    "    [sg.Text('File 1'), sg.InputText(),sg.FileBrowse(),],  \n",
    "    [sg.Text('File 2'), sg.InputText(),sg.FileBrowse(),],\n",
    "    [sg.Submit('Start'), sg.Cancel('Close')]\n",
    "]\n",
    "# create the Window\n",
    "window = sg.Window('Image processor', layout) \n",
    "#The Event LOOP\n",
    "while True:\n",
    "    #read information from user`s input\n",
    "    event, values = window.read()\n",
    "    \n",
    "    if event in (None, 'Exit', 'Close'):\n",
    "        break\n",
    "    \n",
    "    #read the absolute path of image\n",
    "    img1 = cv2.imread(str(values[0]), 1) \n",
    "    img2 = cv2.imread(str(values[1]), 1)\n",
    "    \n",
    "    # convert image to RGB because of properties of OpenCV library\n",
    "    #im_rgb1 = cv2.cvtColor(img1, cv2.COLOR_BGR2RGB)\n",
    "    #im_rgb2 = cv2.cvtColor(img2, cv2.COLOR_BGR2RGB)\n",
    "    \n",
    "    #resize images to one size\n",
    "    resized_img_1 = cv2.resize(img1, (200,200))\n",
    "    resized_img_2 = cv2.resize(img2, (200,200))\n",
    "    \n",
    "    #take exact height and width of images\n",
    "    resized_img_1_height = resized_img_1.shape[0]\n",
    "    resized_img_1_width = resized_img_1.shape[1]\n",
    "    resized_img_2_height = resized_img_2.shape[0]\n",
    "    resized_img_2_width = resized_img_2.shape[1]\n",
    "\n",
    "    #creating animation: FADE\n",
    "    for i in np.linspace (0,1,100):\n",
    "        #The alpha and beta variables are weight for the first and second image respectively\n",
    "        alpha = i \n",
    "        beta = 1-alpha\n",
    "        #realize transition effect  \n",
    "        output = np.uint8(alpha * (resized_img_2)  + beta * (resized_img_1)+ 0)\n",
    "        #concatenate image Horizontally\n",
    "        result = np.concatenate((resized_img_1, resized_img_2, output), axis=1) \n",
    "        #display images in a window\n",
    "        cv2.imshow(\"Output result\", result) \n",
    "        time.sleep (0.02) #suspend execution for the given number of seconds\n",
    "        if (cv2.waitKey(1) == 27): \n",
    "            break \n",
    "    \n",
    "    #creating animation Swipe (from top to bottom)\n",
    "    time.sleep (1)\n",
    "    output= copy.copy(resized_img_1) #make a copy of image 1\n",
    "    for j in range(resized_img_1_width): #iterator j is responsible for rows\n",
    "        for i in range(resized_img_1_height):#iterator i is responsible for columns\n",
    "            output[j, i] = resized_img_2[j, i] #replace given pixel by another one\n",
    "        result = np.concatenate((resized_img_1, resized_img_2, output), axis=1)\n",
    "        cv2.imshow(\"Output result\", result)\n",
    "        time.sleep (0.02)\n",
    "        if (cv2.waitKey(1) == 27):\n",
    "            break\n",
    "    \n",
    "    #creating animation: Curtain\n",
    "    output= copy.copy(resized_img_1)\n",
    "    #additional variables for moving left and right from the middle of the image       \n",
    "    left=int(resized_img_1_height/2)\n",
    "    right=int(resized_img_1_height/2)-1\n",
    "    time.sleep (1)\n",
    "    for j in range(int(resized_img_1_width/2)+1): #iterator j is responsible for columns\n",
    "        #for each iteration move on one pixel left and right accordingly\n",
    "        left = left-1\n",
    "        right = right+1\n",
    "        #exception to avoid being out of array\n",
    "        if(left<0 or right>resized_img_1_width):\n",
    "            break\n",
    "        for i in range(resized_img_1_height):  # iterator i is responsible for rows\n",
    "            output[i, left] = resized_img_2[i, left]\n",
    "            output[i, right] = resized_img_2[i, right]\n",
    "        result = np.concatenate((resized_img_1, resized_img_2, output), axis=1)\n",
    "        cv2.imshow(\"Output result\", result)\n",
    "        time.sleep (0.02)\n",
    "        if (cv2.waitKey(1) == 27):\n",
    "            break\n",
    "            \n",
    "cv2.destroyAllWindows()"
   ]
  },
  {
   "cell_type": "code",
   "execution_count": null,
   "id": "7c542b94",
   "metadata": {},
   "outputs": [],
   "source": []
  }
 ],
 "metadata": {
  "kernelspec": {
   "display_name": "Python 3 (ipykernel)",
   "language": "python",
   "name": "python3"
  },
  "language_info": {
   "codemirror_mode": {
    "name": "ipython",
    "version": 3
   },
   "file_extension": ".py",
   "mimetype": "text/x-python",
   "name": "python",
   "nbconvert_exporter": "python",
   "pygments_lexer": "ipython3",
   "version": "3.9.13"
  }
 },
 "nbformat": 4,
 "nbformat_minor": 5
}
